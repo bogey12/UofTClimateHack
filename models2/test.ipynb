{
 "cells": [
  {
   "cell_type": "code",
   "execution_count": 80,
   "metadata": {},
   "outputs": [
    {
     "name": "stdout",
     "output_type": "stream",
     "text": [
      "The autoreload extension is already loaded. To reload it, use:\n",
      "  %reload_ext autoreload\n"
     ]
    }
   ],
   "source": [
    "%load_ext autoreload\n",
    "%autoreload 2\n",
    "import sys\n",
    "import torch\n",
    "from forecaster import Forecaster\n",
    "from encoder import Encoder\n",
    "from model import EF\n",
    "from loss import Weighted_mse_mae\n",
    "from net_params import convlstm_encoder_params, convlstm_forecaster_params\n",
    "from config import cfg\n"
   ]
  },
  {
   "cell_type": "code",
   "execution_count": 81,
   "metadata": {},
   "outputs": [
    {
     "name": "stdout",
     "output_type": "stream",
     "text": [
      "[OrderedDict([('deconv1_leaky_1', [192, 192, 4, 2, 1])]), OrderedDict([('deconv2_leaky_1', [192, 64, 6, 2, 2])]), OrderedDict([('deconv3_leaky_1', [64, 8, 8, 2, 3]), ('conv3_leaky_2', [8, 8, 3, 2, 1]), ('conv3_3', [8, 1, 1, 1, 0])])]\n",
      "[ConvLSTM(\n",
      "  (_conv): Conv2d(384, 768, kernel_size=(3, 3), stride=(1, 1), padding=(1, 1))\n",
      "), ConvLSTM(\n",
      "  (_conv): Conv2d(384, 768, kernel_size=(3, 3), stride=(1, 1), padding=(1, 1))\n",
      "), ConvLSTM(\n",
      "  (_conv): Conv2d(128, 256, kernel_size=(3, 3), stride=(1, 1), padding=(1, 1))\n",
      ")]\n"
     ]
    }
   ],
   "source": [
    "criterion = Weighted_mse_mae().to(cfg.GLOBAL.DEVICE)\n",
    "encoder = Encoder(convlstm_encoder_params[0], convlstm_encoder_params[1]).to(cfg.GLOBAL.DEVICE)\n",
    "print(convlstm_forecaster_params[0])\n",
    "print(convlstm_forecaster_params[1])\n",
    "\n",
    "forecaster = Forecaster(convlstm_forecaster_params[0], convlstm_forecaster_params[1]).to(cfg.GLOBAL.DEVICE)\n",
    "\n",
    "encoder_forecaster = EF(encoder, forecaster).to(cfg.GLOBAL.DEVICE)"
   ]
  },
  {
   "cell_type": "code",
   "execution_count": 82,
   "metadata": {},
   "outputs": [
    {
     "name": "stdout",
     "output_type": "stream",
     "text": [
      "24\n",
      "24\n",
      "24\n"
     ]
    },
    {
     "data": {
      "text/plain": [
       "torch.Size([24, 1, 1, 64, 64])"
      ]
     },
     "execution_count": 82,
     "metadata": {},
     "output_type": "execute_result"
    }
   ],
   "source": [
    "x = torch.randn(12, 1, 1, 128, 128)\n",
    "encoder_forecaster(x).shape"
   ]
  }
 ],
 "metadata": {
  "interpreter": {
   "hash": "4022e70ef67f71f30690c38ec8544995c7cb08f0ce7241eb102f9426a3409d0c"
  },
  "kernelspec": {
   "display_name": "Python 3.9.7 ('climatehack')",
   "language": "python",
   "name": "python3"
  },
  "language_info": {
   "codemirror_mode": {
    "name": "ipython",
    "version": 3
   },
   "file_extension": ".py",
   "mimetype": "text/x-python",
   "name": "python",
   "nbconvert_exporter": "python",
   "pygments_lexer": "ipython3",
   "version": "3.9.7"
  },
  "orig_nbformat": 4
 },
 "nbformat": 4,
 "nbformat_minor": 2
}
